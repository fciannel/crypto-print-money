{
 "cells": [
  {
   "cell_type": "markdown",
   "id": "7909549e",
   "metadata": {},
   "source": [
    "# Load Libraries"
   ]
  },
  {
   "cell_type": "code",
   "execution_count": 1,
   "id": "a91de309",
   "metadata": {},
   "outputs": [],
   "source": [
    "import os\n",
    "current = os.getcwd()\n",
    "os.chdir(\"../\")"
   ]
  },
  {
   "cell_type": "code",
   "execution_count": 2,
   "id": "82681e2d",
   "metadata": {},
   "outputs": [],
   "source": [
    "import pandas as pd\n",
    "import talib\n",
    "import numpy as np #computing multidimensionla arrays\n",
    "import datetime\n",
    "import urllib3\n",
    "import time\n",
    "import settings"
   ]
  },
  {
   "cell_type": "code",
   "execution_count": 3,
   "id": "d2c54928",
   "metadata": {},
   "outputs": [],
   "source": [
    "os.chdir(current)"
   ]
  },
  {
   "cell_type": "markdown",
   "id": "a2a2a6c6",
   "metadata": {},
   "source": [
    "## logging"
   ]
  },
  {
   "cell_type": "code",
   "execution_count": 8,
   "id": "19ca3e91",
   "metadata": {},
   "outputs": [],
   "source": [
    "import logging\n",
    "\n",
    "# logging.basicConfig(filename='null',format='%(message)s', level=logging.INFO)\n",
    "logger = logging.getLogger(__name__)\n",
    "\n",
    "#create a file handler\n",
    "handler = logging.FileHandler('/tmp/logfile.log')\n",
    "handler.setLevel(logging.INFO)\n"
   ]
  },
  {
   "cell_type": "code",
   "execution_count": 9,
   "id": "5ecf5890",
   "metadata": {},
   "outputs": [],
   "source": [
    "title = logging.Formatter('%(message)s')\n",
    "handler.setFormatter(title)\n",
    "\n",
    "# add the handlers to the logger\n",
    "logger.addHandler(handler)\n"
   ]
  },
  {
   "cell_type": "markdown",
   "id": "baed48ba",
   "metadata": {},
   "source": [
    "## Load binance libraries"
   ]
  },
  {
   "cell_type": "code",
   "execution_count": 11,
   "id": "2140fe72",
   "metadata": {},
   "outputs": [],
   "source": [
    "from binance.client import Client\n",
    "api_key = settings.api_key\n",
    "api_secret = settings.api_secret\n",
    "client = Client(api_key, api_secret)\n",
    "\n",
    "# StochasticRSI Function\n",
    "def Stoch(close,high,low, smoothk, smoothd, n):\n",
    "    lowestlow = pd.Series.rolling(low,window=n,center=False).min()\n",
    "    highesthigh = pd.Series.rolling(high, window=n, center=False).max()\n",
    "    K = pd.Series.rolling(100*((close-lowestlow)/(highesthigh-lowestlow)), window=smoothk).mean()\n",
    "    D = pd.Series.rolling(K, window=smoothd).mean()\n",
    "    return K, D\n"
   ]
  },
  {
   "cell_type": "markdown",
   "id": "6b529415",
   "metadata": {},
   "source": [
    "## Get the historical data"
   ]
  },
  {
   "cell_type": "markdown",
   "id": "b34ca3cf",
   "metadata": {},
   "source": [
    "The get_historical_klines function will take a while probably it's better to paginate it ToDo"
   ]
  },
  {
   "cell_type": "code",
   "execution_count": 12,
   "id": "642c323a",
   "metadata": {},
   "outputs": [],
   "source": [
    "start_date = \"1 Apr, 2021\""
   ]
  },
  {
   "cell_type": "code",
   "execution_count": 39,
   "id": "f5a731ac",
   "metadata": {},
   "outputs": [],
   "source": [
    "#     # Get Binance Data into dataframe\n",
    "#     # candles = client.get_klines(symbol='BTCUSDT', interval=Client.KLINE_INTERVAL_1MINUTE)\n",
    "candles = client.get_historical_klines(\"BTCUSDT\", Client.KLINE_INTERVAL_1MINUTE, start_date)"
   ]
  },
  {
   "cell_type": "markdown",
   "id": "fbf283c5",
   "metadata": {},
   "source": [
    "The operations below set the names for the columns in the dataframe"
   ]
  },
  {
   "cell_type": "code",
   "execution_count": 40,
   "id": "3322f6d2",
   "metadata": {},
   "outputs": [],
   "source": [
    "df = pd.DataFrame(candles)\n",
    "df.columns=['timestart','open','high','low','close','?','timeend','?','?','?','?','?']"
   ]
  },
  {
   "cell_type": "code",
   "execution_count": 35,
   "id": "07bcd762",
   "metadata": {},
   "outputs": [],
   "source": [
    "final_df = pd.DataFrame(columns = [\"candlestart\", \"candleend\", \"candleclose\", \"candleRSI\", \"candleK\", \"candleD\"])"
   ]
  },
  {
   "cell_type": "code",
   "execution_count": null,
   "id": "ed5806ec",
   "metadata": {},
   "outputs": [
    {
     "name": "stderr",
     "output_type": "stream",
     "text": [
      "<ipython-input-43-2b6fe7f96fca>:14: SettingWithCopyWarning: \n",
      "A value is trying to be set on a copy of a slice from a DataFrame.\n",
      "Try using .loc[row_indexer,col_indexer] = value instead\n",
      "\n",
      "See the caveats in the documentation: https://pandas.pydata.org/pandas-docs/stable/user_guide/indexing.html#returning-a-view-versus-a-copy\n",
      "  current_df['rsi'] = rsi\n",
      "<ipython-input-43-2b6fe7f96fca>:18: SettingWithCopyWarning: \n",
      "A value is trying to be set on a copy of a slice from a DataFrame.\n",
      "Try using .loc[row_indexer,col_indexer] = value instead\n",
      "\n",
      "See the caveats in the documentation: https://pandas.pydata.org/pandas-docs/stable/user_guide/indexing.html#returning-a-view-versus-a-copy\n",
      "  current_df['MyStochrsiK'], current_df['MyStochrsiD'] = mystochrsi\n"
     ]
    }
   ],
   "source": [
    "for i in range(0, len(df)-500 + 1):\n",
    "    start = i\n",
    "    end = i + 500 - 1\n",
    "    current_df = df[start:end]\n",
    "    \n",
    "    # The operation below translates the timestamps into datetime format\n",
    "    current_df.timestart = [datetime.datetime.fromtimestamp(i/1000) for i in current_df.timestart.values]\n",
    "    current_df.timeend = [datetime.datetime.fromtimestamp(i/1000) for i in current_df.timeend.values]\n",
    "    \n",
    "    # This seems to be computing the RSI\n",
    "    float_data = [float(x) for x in current_df.close.values]\n",
    "    np_float_data = np.array(float_data)\n",
    "    rsi = talib.RSI(np_float_data, 14)\n",
    "    current_df['rsi'] = rsi\n",
    "\n",
    "    # Compute StochRSI using RSI values in Stochastic function\n",
    "    mystochrsi = Stoch(current_df.rsi, current_df.rsi, current_df.rsi, 3, 3, 14)\n",
    "    current_df['MyStochrsiK'], current_df['MyStochrsiD'] = mystochrsi\n",
    "\n",
    "    newestcandlestart = current_df.timestart.astype(str).iloc[-1] #gets last time\n",
    "    newestcandleend = current_df.timeend.astype(str).iloc[-1] #gets current time?\n",
    "    newestcandleclose = current_df.close.iloc[-1] #gets last close\n",
    "    newestcandleRSI = current_df.rsi.astype(str).iloc[-1] #gets last rsi\n",
    "    newestcandleK = current_df.MyStochrsiK.astype(str).iloc[-1] #gets last rsi\n",
    "    newestcandleD = current_df.MyStochrsiD.astype(str).iloc[-1] #gets last rsi\n",
    "    \n",
    "    final_df.append({\"candlestart\": newestcandlestart, \n",
    "                     \"candleend\": newestcandleend, \n",
    "                     \"candleclose\": newestcandleclose, \n",
    "                     \"candleRSI\": newestcandleRSI, \n",
    "                     \"candleK\": newestcandleK, \n",
    "                     \"candleD\": newestcandleD}, ignore_index=True)"
   ]
  },
  {
   "cell_type": "code",
   "execution_count": null,
   "id": "ed2672dd",
   "metadata": {},
   "outputs": [],
   "source": []
  }
 ],
 "metadata": {
  "kernelspec": {
   "display_name": "Python 3",
   "language": "python",
   "name": "python3"
  },
  "language_info": {
   "codemirror_mode": {
    "name": "ipython",
    "version": 3
   },
   "file_extension": ".py",
   "mimetype": "text/x-python",
   "name": "python",
   "nbconvert_exporter": "python",
   "pygments_lexer": "ipython3",
   "version": "3.8.10"
  }
 },
 "nbformat": 4,
 "nbformat_minor": 5
}
